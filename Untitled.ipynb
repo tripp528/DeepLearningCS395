{
 "cells": [
  {
   "cell_type": "code",
   "execution_count": 1,
   "metadata": {},
   "outputs": [],
   "source": [
    "import numpy as np\n",
    "import pandas as pd\n",
    "\n",
    "from sklearn.preprocessing import OneHotEncoder, StandardScaler\n",
    "\n",
    "from tensorflow.keras.preprocessing import image"
   ]
  },
  {
   "cell_type": "code",
   "execution_count": 33,
   "metadata": {},
   "outputs": [
    {
     "name": "stdout",
     "output_type": "stream",
     "text": [
      "0 / 20000\n",
      "100 / 20000\n"
     ]
    }
   ],
   "source": [
    "num_samples=160\n",
    "# get list\n",
    "dataset_dir = \"Data/png/\"\n",
    "filelist_path = dataset_dir + \"filelist.txt\"\n",
    "filelist = []\n",
    "with open(filelist_path) as infile:\n",
    "    for line in infile.readlines():\n",
    "        filelist.append(line.strip())\n",
    "\n",
    "# get images and labels\n",
    "images_train =  []\n",
    "images_test = []\n",
    "labels_train = []\n",
    "labels_test = []\n",
    "count = 0\n",
    "for filepath in filelist[:num_samples]:\n",
    "    # load image\n",
    "    image_path = dataset_dir + filepath\n",
    "    img = image.load_img(image_path,target_size=(224, 224,3))\n",
    "    img = image.img_to_array(img)\n",
    "\n",
    "    # add to list\n",
    "    if count %80 < 60:\n",
    "        labels_train.append(filepath.partition(\"/\")[0])\n",
    "        images_train.append(img)\n",
    "    else:\n",
    "        labels_test.append(filepath.partition(\"/\")[0])\n",
    "        images_test.append(img)\n",
    "\n",
    "    # display progress\n",
    "    if count %100 == 0:\n",
    "        print(count, \"/\", 20000)\n",
    "    count += 1\n",
    "    "
   ]
  },
  {
   "cell_type": "code",
   "execution_count": 38,
   "metadata": {},
   "outputs": [],
   "source": [
    "xtrain = np.asanyarray(images_train)"
   ]
  },
  {
   "cell_type": "code",
   "execution_count": 39,
   "metadata": {},
   "outputs": [
    {
     "data": {
      "text/plain": [
       "(120, 224, 224, 3)"
      ]
     },
     "execution_count": 39,
     "metadata": {},
     "output_type": "execute_result"
    }
   ],
   "source": [
    "xtrain.shape"
   ]
  },
  {
   "cell_type": "code",
   "execution_count": 40,
   "metadata": {},
   "outputs": [
    {
     "data": {
      "text/plain": [
       "255.0"
      ]
     },
     "execution_count": 40,
     "metadata": {},
     "output_type": "execute_result"
    }
   ],
   "source": [
    "np.max(xtrain)"
   ]
  },
  {
   "cell_type": "code",
   "execution_count": 41,
   "metadata": {},
   "outputs": [
    {
     "data": {
      "text/plain": [
       "72.253584"
      ]
     },
     "execution_count": 41,
     "metadata": {},
     "output_type": "execute_result"
    }
   ],
   "source": [
    "import sys\n",
    "sys.getsizeof(xtrain)/1000000"
   ]
  },
  {
   "cell_type": "code",
   "execution_count": null,
   "metadata": {},
   "outputs": [],
   "source": []
  }
 ],
 "metadata": {
  "kernelspec": {
   "display_name": "Python 3",
   "language": "python",
   "name": "python3"
  },
  "language_info": {
   "codemirror_mode": {
    "name": "ipython",
    "version": 3
   },
   "file_extension": ".py",
   "mimetype": "text/x-python",
   "name": "python",
   "nbconvert_exporter": "python",
   "pygments_lexer": "ipython3",
   "version": "3.6.7"
  }
 },
 "nbformat": 4,
 "nbformat_minor": 2
}
