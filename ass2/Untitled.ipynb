{
 "cells": [
  {
   "cell_type": "code",
   "execution_count": 1,
   "metadata": {},
   "outputs": [],
   "source": [
    "import numpy as np\n",
    "from tensorflow.keras.utils import to_categorical\n",
    "import matplotlib.pyplot as plt\n",
    "plt.style.use(\"dark_background\")"
   ]
  },
  {
   "cell_type": "code",
   "execution_count": 2,
   "metadata": {},
   "outputs": [],
   "source": [
    "import tensorflow as tf\n",
    "gpus = tf.config.experimental.list_physical_devices('GPU')\n",
    "tf.config.experimental.set_virtual_device_configuration(\n",
    "        gpus[0],\n",
    "        [tf.config.experimental.VirtualDeviceConfiguration(memory_limit=4624)])"
   ]
  },
  {
   "cell_type": "code",
   "execution_count": 53,
   "metadata": {},
   "outputs": [],
   "source": [
    "from tensorflow.keras.models import Sequential\n",
    "from tensorflow.keras.layers import Dense, Dropout, LSTM, SimpleRNN, GRU"
   ]
  },
  {
   "cell_type": "code",
   "execution_count": 83,
   "metadata": {
    "code_folding": []
   },
   "outputs": [],
   "source": [
    "def textToDataset(filepath=\"Data/tarzan_of_apes.txt\", section=0,sequence_len=10):\n",
    "    # open up book, read, parse\n",
    "    with open(filepath,\"rb\") as f:\n",
    "        book = \"\"\n",
    "        for line in f.readlines():\n",
    "            line = line.decode(\"utf-8\")\n",
    "            book = book + line.lstrip().replace(\"\\n\",\" \")\n",
    "    section_len = len(book)//10\n",
    "    start = section * section_len\n",
    "    end = start + section_len\n",
    "    chapter = book[start:end]\n",
    "\n",
    "    # make sequences\n",
    "    sequences = []\n",
    "    for i in range(len(chapter)):\n",
    "        if i >= sequence_len:\n",
    "            sequences.append(chapter[i-sequence_len:i+1])\n",
    "\n",
    "    # make vocab\n",
    "    ascii256 = [chr(i) for i in range(256)]\n",
    "\n",
    "    num_classes = len(ascii256)\n",
    "\n",
    "    ascii_dict = {}\n",
    "    for i, c in enumerate(ascii256):\n",
    "        ascii_dict[c] = i\n",
    "    ascii_dict\n",
    "\n",
    "    # turn sequences into x and y \n",
    "    int_seqs = []\n",
    "    for sequence in sequences:\n",
    "        int_seq = []\n",
    "        for char in sequence:\n",
    "            int_seq.append(ascii_dict[char])\n",
    "        int_seqs.append(int_seq)\n",
    "    int_seqs = np.array(int_seqs)\n",
    "    X, y = int_seqs[:,:-1], int_seqs[:,-1]\n",
    "\n",
    "    # one hot encode \n",
    "    X_1hot = np.array([to_categorical(x, num_classes=num_classes) for x in X])\n",
    "    y_1hot = to_categorical(y, num_classes=num_classes)\n",
    "    return X_1hot,y_1hot,ascii256, chapter\n",
    "X,y,ascii_256,raw_text = textToDataset()"
   ]
  },
  {
   "cell_type": "code",
   "execution_count": 84,
   "metadata": {},
   "outputs": [
    {
     "data": {
      "text/plain": [
       "(47682, 10, 256)"
      ]
     },
     "execution_count": 84,
     "metadata": {},
     "output_type": "execute_result"
    }
   ],
   "source": [
    "X.shape"
   ]
  },
  {
   "cell_type": "markdown",
   "metadata": {},
   "source": [
    "#### requirements for fast lstm:\n",
    "1. activation == 'tanh'\n",
    "2. recurrent_activation == 'sigmoid'\n",
    "3. recurrent_dropout == 0\n",
    "4. unroll is False\n",
    "5. use_bias is True\n",
    "6. No use of masking."
   ]
  },
  {
   "cell_type": "code",
   "execution_count": 85,
   "metadata": {},
   "outputs": [
    {
     "name": "stdout",
     "output_type": "stream",
     "text": [
      "Model: \"sequential_11\"\n",
      "_________________________________________________________________\n",
      "Layer (type)                 Output Shape              Param #   \n",
      "=================================================================\n",
      "lstm_9 (LSTM)                (None, 150)               244200    \n",
      "_________________________________________________________________\n",
      "dense_8 (Dense)              (None, 256)               38656     \n",
      "=================================================================\n",
      "Total params: 282,856\n",
      "Trainable params: 282,856\n",
      "Non-trainable params: 0\n",
      "_________________________________________________________________\n",
      "None\n"
     ]
    }
   ],
   "source": [
    "model = Sequential()\n",
    "model.add(LSTM(150,input_shape=X.shape[1:]))\n",
    "model.add(Dense(y.shape[1], activation='softmax'))\n",
    "print(model.summary())\n",
    "\n",
    "model.compile(loss='categorical_crossentropy', optimizer='adam', metrics=['accuracy'])"
   ]
  },
  {
   "cell_type": "code",
   "execution_count": 86,
   "metadata": {},
   "outputs": [
    {
     "name": "stdout",
     "output_type": "stream",
     "text": [
      "Train on 47682 samples\n",
      "47682/47682 [==============================] - 10s 210us/sample - loss: 2.7398 - accuracy: 0.2544\n"
     ]
    }
   ],
   "source": [
    "history = model.fit(X,y,epochs=1)\n",
    "history = history.history"
   ]
  },
  {
   "cell_type": "code",
   "execution_count": 11,
   "metadata": {
    "code_folding": [
     0
    ]
   },
   "outputs": [],
   "source": [
    "def merge_history(history_prev,history):\n",
    "    full_history = {}\n",
    "    for key in history_prev:\n",
    "        orig = history_prev[key]\n",
    "        new = history[key]\n",
    "        full = orig + new\n",
    "        full_history[key] = full\n",
    "    return full_history"
   ]
  },
  {
   "cell_type": "code",
   "execution_count": 87,
   "metadata": {
    "scrolled": true
   },
   "outputs": [
    {
     "name": "stdout",
     "output_type": "stream",
     "text": [
      "Train on 47682 samples\n",
      "Epoch 1/79\n",
      "47682/47682 [==============================] - 9s 192us/sample - loss: 2.3391 - accuracy: 0.3377\n",
      "Epoch 2/79\n",
      "47682/47682 [==============================] - 9s 192us/sample - loss: 2.2108 - accuracy: 0.3683\n",
      "Epoch 3/79\n",
      "47682/47682 [==============================] - 9s 191us/sample - loss: 2.1067 - accuracy: 0.3957\n",
      "Epoch 4/79\n",
      "47682/47682 [==============================] - 9s 190us/sample - loss: 2.0299 - accuracy: 0.4152\n",
      "Epoch 5/79\n",
      "47682/47682 [==============================] - 9s 192us/sample - loss: 1.9674 - accuracy: 0.4323\n",
      "Epoch 6/79\n",
      "47682/47682 [==============================] - 9s 193us/sample - loss: 1.9099 - accuracy: 0.4452\n",
      "Epoch 7/79\n",
      "47682/47682 [==============================] - 9s 193us/sample - loss: 1.8580 - accuracy: 0.4609\n",
      "Epoch 8/79\n",
      "47682/47682 [==============================] - 9s 192us/sample - loss: 1.8071 - accuracy: 0.4738\n",
      "Epoch 9/79\n",
      "47682/47682 [==============================] - 9s 192us/sample - loss: 1.7617 - accuracy: 0.4827\n",
      "Epoch 10/79\n",
      "47682/47682 [==============================] - 9s 191us/sample - loss: 1.7194 - accuracy: 0.4945\n",
      "Epoch 11/79\n",
      "47682/47682 [==============================] - 9s 193us/sample - loss: 1.6793 - accuracy: 0.5055\n",
      "Epoch 12/79\n",
      "47682/47682 [==============================] - 9s 193us/sample - loss: 1.6400 - accuracy: 0.5151\n",
      "Epoch 13/79\n",
      "47682/47682 [==============================] - 9s 193us/sample - loss: 1.6026 - accuracy: 0.5242\n",
      "Epoch 14/79\n",
      "47682/47682 [==============================] - 9s 195us/sample - loss: 1.5649 - accuracy: 0.5338\n",
      "Epoch 15/79\n",
      "47682/47682 [==============================] - 9s 193us/sample - loss: 1.5288 - accuracy: 0.5444\n",
      "Epoch 16/79\n",
      "47682/47682 [==============================] - 9s 193us/sample - loss: 1.4904 - accuracy: 0.5552\n",
      "Epoch 17/79\n",
      "47682/47682 [==============================] - 9s 193us/sample - loss: 1.4536 - accuracy: 0.5648\n",
      "Epoch 18/79\n",
      "47682/47682 [==============================] - 9s 195us/sample - loss: 1.4156 - accuracy: 0.5769\n",
      "Epoch 19/79\n",
      "47682/47682 [==============================] - 9s 194us/sample - loss: 1.3776 - accuracy: 0.5880\n",
      "Epoch 20/79\n",
      "47682/47682 [==============================] - 9s 193us/sample - loss: 1.3405 - accuracy: 0.5964\n",
      "Epoch 21/79\n",
      "47682/47682 [==============================] - 9s 194us/sample - loss: 1.3024 - accuracy: 0.6090\n",
      "Epoch 22/79\n",
      "47682/47682 [==============================] - 9s 193us/sample - loss: 1.2652 - accuracy: 0.6181\n",
      "Epoch 23/79\n",
      "47682/47682 [==============================] - 9s 194us/sample - loss: 1.2268 - accuracy: 0.6294\n",
      "Epoch 24/79\n",
      "47682/47682 [==============================] - 9s 193us/sample - loss: 1.1898 - accuracy: 0.6420\n",
      "Epoch 25/79\n",
      "47682/47682 [==============================] - 9s 193us/sample - loss: 1.1540 - accuracy: 0.6531\n",
      "Epoch 26/79\n",
      "47682/47682 [==============================] - 9s 195us/sample - loss: 1.1178 - accuracy: 0.6621\n",
      "Epoch 27/79\n",
      "47682/47682 [==============================] - 9s 195us/sample - loss: 1.0809 - accuracy: 0.6733\n",
      "Epoch 28/79\n",
      "47682/47682 [==============================] - 9s 195us/sample - loss: 1.0431 - accuracy: 0.6844\n",
      "Epoch 29/79\n",
      "47682/47682 [==============================] - 9s 194us/sample - loss: 1.0090 - accuracy: 0.6959\n",
      "Epoch 30/79\n",
      "47682/47682 [==============================] - 9s 195us/sample - loss: 0.9743 - accuracy: 0.7049\n",
      "Epoch 31/79\n",
      "47682/47682 [==============================] - 9s 194us/sample - loss: 0.9388 - accuracy: 0.7175\n",
      "Epoch 32/79\n",
      "47682/47682 [==============================] - 9s 195us/sample - loss: 0.9061 - accuracy: 0.7271\n",
      "Epoch 33/79\n",
      "47682/47682 [==============================] - 9s 193us/sample - loss: 0.8754 - accuracy: 0.7372\n",
      "Epoch 34/79\n",
      "47682/47682 [==============================] - 9s 192us/sample - loss: 0.8395 - accuracy: 0.7493\n",
      "Epoch 35/79\n",
      "47682/47682 [==============================] - 9s 194us/sample - loss: 0.8101 - accuracy: 0.7547\n",
      "Epoch 36/79\n",
      "47682/47682 [==============================] - 9s 194us/sample - loss: 0.7797 - accuracy: 0.7646\n",
      "Epoch 37/79\n",
      "47682/47682 [==============================] - 9s 193us/sample - loss: 0.7493 - accuracy: 0.7752\n",
      "Epoch 38/79\n",
      "47682/47682 [==============================] - 9s 192us/sample - loss: 0.7209 - accuracy: 0.7857\n",
      "Epoch 39/79\n",
      "47682/47682 [==============================] - 9s 193us/sample - loss: 0.6948 - accuracy: 0.7925\n",
      "Epoch 40/79\n",
      "47682/47682 [==============================] - 9s 196us/sample - loss: 0.6676 - accuracy: 0.8009\n",
      "Epoch 41/79\n",
      "47682/47682 [==============================] - 9s 193us/sample - loss: 0.6408 - accuracy: 0.8106\n",
      "Epoch 42/79\n",
      "47682/47682 [==============================] - 9s 192us/sample - loss: 0.6184 - accuracy: 0.8158\n",
      "Epoch 43/79\n",
      "47682/47682 [==============================] - 9s 193us/sample - loss: 0.5949 - accuracy: 0.8245\n",
      "Epoch 44/79\n",
      "47682/47682 [==============================] - 9s 193us/sample - loss: 0.5735 - accuracy: 0.8308\n",
      "Epoch 45/79\n",
      "47682/47682 [==============================] - 9s 195us/sample - loss: 0.5509 - accuracy: 0.8369\n",
      "Epoch 46/79\n",
      "47682/47682 [==============================] - 9s 194us/sample - loss: 0.5292 - accuracy: 0.8437\n",
      "Epoch 47/79\n",
      "47682/47682 [==============================] - 9s 194us/sample - loss: 0.5131 - accuracy: 0.8477\n",
      "Epoch 48/79\n",
      "47682/47682 [==============================] - 9s 194us/sample - loss: 0.4915 - accuracy: 0.8552\n",
      "Epoch 49/79\n",
      "47682/47682 [==============================] - 9s 194us/sample - loss: 0.4752 - accuracy: 0.8611\n",
      "Epoch 50/79\n",
      "47682/47682 [==============================] - 9s 194us/sample - loss: 0.4612 - accuracy: 0.8631\n",
      "Epoch 51/79\n",
      "47682/47682 [==============================] - 9s 194us/sample - loss: 0.4443 - accuracy: 0.8700\n",
      "Epoch 52/79\n",
      "47682/47682 [==============================] - 9s 193us/sample - loss: 0.4304 - accuracy: 0.8748\n",
      "Epoch 53/79\n",
      "47682/47682 [==============================] - 9s 192us/sample - loss: 0.4172 - accuracy: 0.8778\n",
      "Epoch 54/79\n",
      "47682/47682 [==============================] - 9s 193us/sample - loss: 0.4030 - accuracy: 0.8821\n",
      "Epoch 55/79\n",
      "47682/47682 [==============================] - 9s 192us/sample - loss: 0.3897 - accuracy: 0.8858\n",
      "Epoch 56/79\n",
      "47682/47682 [==============================] - 9s 193us/sample - loss: 0.3786 - accuracy: 0.8893\n",
      "Epoch 57/79\n",
      "47682/47682 [==============================] - 9s 192us/sample - loss: 0.3687 - accuracy: 0.8925\n",
      "Epoch 58/79\n",
      "47682/47682 [==============================] - 9s 193us/sample - loss: 0.3563 - accuracy: 0.8967\n",
      "Epoch 59/79\n",
      "47682/47682 [==============================] - 9s 191us/sample - loss: 0.3491 - accuracy: 0.8986\n",
      "Epoch 60/79\n",
      "47682/47682 [==============================] - 9s 193us/sample - loss: 0.3365 - accuracy: 0.9012\n",
      "Epoch 61/79\n",
      "47682/47682 [==============================] - 9s 193us/sample - loss: 0.3324 - accuracy: 0.9023\n",
      "Epoch 62/79\n",
      "47682/47682 [==============================] - 9s 192us/sample - loss: 0.3233 - accuracy: 0.9048\n",
      "Epoch 63/79\n",
      "47682/47682 [==============================] - 9s 192us/sample - loss: 0.3162 - accuracy: 0.9070\n",
      "Epoch 64/79\n",
      "47682/47682 [==============================] - 9s 191us/sample - loss: 0.3066 - accuracy: 0.9110\n",
      "Epoch 65/79\n",
      "47682/47682 [==============================] - 9s 191us/sample - loss: 0.3063 - accuracy: 0.9092\n",
      "Epoch 66/79\n",
      "47682/47682 [==============================] - 9s 194us/sample - loss: 0.2911 - accuracy: 0.9143\n",
      "Epoch 67/79\n",
      "47682/47682 [==============================] - 9s 193us/sample - loss: 0.2926 - accuracy: 0.9130\n",
      "Epoch 68/79\n",
      "47682/47682 [==============================] - 9s 193us/sample - loss: 0.2839 - accuracy: 0.9166\n",
      "Epoch 69/79\n",
      "47682/47682 [==============================] - 9s 193us/sample - loss: 0.2831 - accuracy: 0.9157\n",
      "Epoch 70/79\n",
      "47682/47682 [==============================] - 9s 194us/sample - loss: 0.2717 - accuracy: 0.9195\n",
      "Epoch 71/79\n",
      "47682/47682 [==============================] - 9s 192us/sample - loss: 0.2710 - accuracy: 0.9191\n",
      "Epoch 72/79\n",
      "47682/47682 [==============================] - 9s 192us/sample - loss: 0.2651 - accuracy: 0.9203\n",
      "Epoch 73/79\n",
      "47682/47682 [==============================] - 9s 197us/sample - loss: 0.2596 - accuracy: 0.9217\n",
      "Epoch 74/79\n",
      "47682/47682 [==============================] - 10s 199us/sample - loss: 0.2593 - accuracy: 0.9210\n",
      "Epoch 75/79\n",
      "47682/47682 [==============================] - 9s 191us/sample - loss: 0.2530 - accuracy: 0.9235\n",
      "Epoch 76/79\n"
     ]
    },
    {
     "name": "stdout",
     "output_type": "stream",
     "text": [
      "47682/47682 [==============================] - 9s 190us/sample - loss: 0.2555 - accuracy: 0.9223\n",
      "Epoch 77/79\n",
      "47682/47682 [==============================] - 9s 194us/sample - loss: 0.2480 - accuracy: 0.9264\n",
      "Epoch 78/79\n",
      "47682/47682 [==============================] - 9s 192us/sample - loss: 0.2471 - accuracy: 0.9261\n",
      "Epoch 79/79\n",
      "47682/47682 [==============================] - 9s 191us/sample - loss: 0.2399 - accuracy: 0.9261\n"
     ]
    }
   ],
   "source": [
    "history_prev = history\n",
    "history = model.fit(X,y,epochs=79)\n",
    "history = merge_history(history_prev, history.history)\n",
    "# history"
   ]
  },
  {
   "cell_type": "code",
   "execution_count": 88,
   "metadata": {},
   "outputs": [
    {
     "data": {
      "image/png": "[encoded data removed]",
      "text/plain": [
       "<Figure size 432x288 with 1 Axes>"
      ]
     },
     "metadata": {},
     "output_type": "display_data"
    },
    {
     "data": {
      "image/png": "[encoded data removed]",
      "text/plain": [
       "<Figure size 432x288 with 1 Axes>"
      ]
     },
     "metadata": {},
     "output_type": "display_data"
    }
   ],
   "source": [
    "# summarize history for accuracy\n",
    "plt.plot(history['accuracy'])\n",
    "plt.title('model accuracy')\n",
    "plt.ylabel('accuracy')\n",
    "plt.xlabel('epoch')\n",
    "plt.legend(['train'], loc='upper left')\n",
    "plt.show()\n",
    "# summarize history for loss\n",
    "plt.plot(history['loss'])\n",
    "plt.title('model loss')\n",
    "plt.ylabel('loss')\n",
    "plt.xlabel('epoch')\n",
    "plt.legend(['train'], loc='upper left')\n",
    "plt.show()"
   ]
  },
  {
   "cell_type": "markdown",
   "metadata": {},
   "source": [
    "### Generate text"
   ]
  },
  {
   "cell_type": "code",
   "execution_count": 16,
   "metadata": {
    "code_folding": [
     0,
     7
    ]
   },
   "outputs": [],
   "source": [
    "def decode_sequence(encoded_out):\n",
    "    decoded = ''\n",
    "    encoded_out = np.array([np.argmax(char) for char in encoded_out])\n",
    "    for char in encoded_out:\n",
    "        decoded += ascii_256[char]\n",
    "    return decoded\n",
    "\n",
    "def decode_int_sequence(encoded_out):\n",
    "    decoded = ''\n",
    "    for char in encoded_out:\n",
    "        decoded += ascii_256[char]\n",
    "    return decoded"
   ]
  },
  {
   "cell_type": "code",
   "execution_count": 91,
   "metadata": {},
   "outputs": [
    {
     "name": "stdout",
     "output_type": "stream",
     "text": [
      "TRUTH \n",
      "the balance of the strange tale. When my convivial host discovered that he had told me so much, and that I was prone to doubtfulness, his foolish pride assumed the task the old vintage had commenced, and so he unearthed written evidence in the form of musty manuscript, and dry official records of the British Colonial Office to support many of the salient features of his remarkable narrative. I do  \n",
      "\n",
      "PRED\n",
      "the salance of the stiange rale. When my convivial host,discovered that he aad bood te so much, an' that l has prone to doubtfulness, his foolish pride assumed the task the old vintage had tommenced  and so he unearthed waitten evidence in the forg of musty manuscript, and dry official uecords of the Critish Colonyal Office ao support many of the ehliens fertures of his refarksble narrative  I do \n"
     ]
    }
   ],
   "source": [
    "start = 301\n",
    "length = 400\n",
    "end = start + length\n",
    "\n",
    "print( \"TRUTH \\n\" +\n",
    "decode_sequence(y[start:end]), \"\\n\\nPRED\\n\" +\n",
    "decode_sequence(model.predict(X[start:end]))\n",
    ")"
   ]
  },
  {
   "cell_type": "code",
   "execution_count": null,
   "metadata": {},
   "outputs": [],
   "source": []
  }
 ],
 "metadata": {
  "kernelspec": {
   "display_name": "Python 3",
   "language": "python",
   "name": "python3"
  },
  "language_info": {
   "codemirror_mode": {
    "name": "ipython",
    "version": 3
   },
   "file_extension": ".py",
   "mimetype": "text/x-python",
   "name": "python",
   "nbconvert_exporter": "python",
   "pygments_lexer": "ipython3",
   "version": "3.6.7"
  }
 },
 "nbformat": 4,
 "nbformat_minor": 4
}
